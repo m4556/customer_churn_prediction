{
 "cells": [
  {
   "cell_type": "markdown",
   "id": "c0a4e0b6",
   "metadata": {},
   "source": [
    "### Model building, evaluation and tuning"
   ]
  },
  {
   "cell_type": "code",
   "execution_count": null,
   "id": "2420920d",
   "metadata": {},
   "outputs": [],
   "source": [
    "import pandas as pd\n",
    "import matplotlib.pyplot as plt\n",
    "import pickle\n",
    "import warnings\n",
    "import numpy as np\n",
    "import seaborn as sns\n",
    "from sklearn.preprocessing import MinMaxScaler\n",
    "from sklearn.linear_model import LogisticRegression\n",
    "from sklearn import metrics\n",
    "from sklearn.metrics import roc_curve, roc_auc_score, recall_score, confusion_matrix, precision_score, f1_score, accuracy_score, classification_report\n",
    "from sklearn.model_selection import RandomizedSearchCV, StratifiedKFold, train_test_split\n",
    "warnings.filterwarnings(\"ignore\")\n",
    "from xgboost import XGBClassifier\n",
    "from imblearn.over_sampling import SMOTE\n",
    "from sklearn.ensemble import RandomForestClassifier\n",
    "from collections import Counter\n",
    "\n",
    "df = pd.read_csv('data/telco_customer_churn_cleaned.csv')\n",
    "\n",
    "# label encoding\n",
    "label_encoding_columns = ['gender', 'Partner', 'Dependents', 'PaperlessBilling', 'PhoneService', 'Churn']\n",
    "for column in label_encoding_columns:\n",
    "    if column == 'gender':\n",
    "        df[column] = df[column].map({'Female': 1, 'Male': 0})\n",
    "    else: \n",
    "        df[column] = df[column].map({'Yes': 1, 'No': 0}) \n",
    "\n",
    "# one hot encoding\n",
    "features = ['MultipleLines', 'InternetService', 'OnlineSecurity', 'OnlineBackup', 'DeviceProtection', \n",
    "            'TechSupport', 'StreamingTV',  'StreamingMovies', 'Contract', 'PaymentMethod']\n",
    "df = pd.get_dummies(df, columns = features)\n",
    "\n",
    "# scaler\n",
    "cols_to_scale = ['tenure','MonthlyCharges','TotalCharges']\n",
    "scaler = MinMaxScaler()\n",
    "df[cols_to_scale] = scaler.fit_transform(df[cols_to_scale])\n",
    "\n",
    "X = df.drop('Churn',axis=1)\n",
    "y = df.loc[:, 'Churn']\n",
    "X_train, X_test, y_train, y_test = train_test_split(X, y, test_size=0.25, random_state=40, shuffle=True)\n",
    "\n",
    "print(X.columns)"
   ]
  },
  {
   "cell_type": "markdown",
   "id": "146c39e7",
   "metadata": {},
   "source": [
    "#### Linear Regression"
   ]
  },
  {
   "cell_type": "code",
   "execution_count": null,
   "id": "b9578c1b",
   "metadata": {},
   "outputs": [],
   "source": [
    "X_train, X_test, y_train, y_test = train_test_split(X, y, test_size=0.3, random_state=1)\n",
    "\n",
    "lg = LogisticRegression(solver=\"newton-cg\", random_state=1)\n",
    "model = lg.fit(X_train, y_train)\n",
    "y_pred = lg.predict(X_test)\n",
    "print(X_test.shape)\n",
    "       \n",
    "print(\"Classification Report: \\n {}\\n\".format(classification_report(y_test, y_pred)))"
   ]
  },
  {
   "cell_type": "markdown",
   "id": "b52c355d",
   "metadata": {},
   "source": [
    "#### Random Forest Classifier"
   ]
  },
  {
   "cell_type": "code",
   "execution_count": null,
   "id": "aa5cfa93",
   "metadata": {},
   "outputs": [],
   "source": [
    "X_train, X_test, y_train, y_test = train_test_split(X, y, test_size=0.2, random_state=101)\n",
    "model_rf = RandomForestClassifier(n_estimators=1000 , oob_score = True, n_jobs = -1,\n",
    "                                  random_state =50, \n",
    "                                  max_leaf_nodes = 30)\n",
    "model_rf.fit(X_train, y_train)\n",
    "prediction_test = model_rf.predict(X_test)\n",
    "\n",
    "report = classification_report(y_test, prediction_test)\n",
    "print(report)\n",
    "\n",
    "plt.figure(figsize=(4,3))\n",
    "sns.heatmap(confusion_matrix(y_test, prediction_test),annot=True,fmt = \"d\",linecolor=\"k\",linewidths=3)\n",
    "plt.title(\"Confusion matrix\",fontsize=14)\n",
    "plt.show()\n",
    "\n",
    "y_rfpred_prob = model_rf.predict_proba(X_test)[:,1]\n",
    "fpr_rf, tpr_rf, thresholds = roc_curve(y_test, y_rfpred_prob)\n",
    "plt.plot([0, 1], [0, 1], 'k--' )\n",
    "plt.plot(fpr_rf, tpr_rf, label='Random Forest',color = \"r\")\n",
    "plt.xlabel('False Positive Rate')\n",
    "plt.ylabel('True Positive Rate')\n",
    "plt.title('Random Forest ROC Curve',fontsize=16)\n",
    "plt.show();"
   ]
  },
  {
   "cell_type": "markdown",
   "id": "5910b75d",
   "metadata": {},
   "source": [
    "#### XGBoost  Classifier"
   ]
  },
  {
   "cell_type": "code",
   "execution_count": null,
   "id": "27bc0798",
   "metadata": {},
   "outputs": [],
   "source": [
    "xgb = XGBClassifier(eval_metric='mlogloss', use_label_encoder=False)\n",
    "xgb.fit(X_train, y_train)\n",
    "\n",
    "prediction_test = xgb.predict(X_test)\n",
    "y_pred_prob = xgb.predict_proba(X_test)\n",
    "\n",
    "report = classification_report(y_test, prediction_test)\n",
    "print(report)\n",
    "\n",
    "plt.figure(figsize=(4,3))\n",
    "sns.heatmap(confusion_matrix(y_test, prediction_test),annot=True,fmt = \"d\",linecolor=\"k\",linewidths=3)\n",
    "plt.title(\"Confusion matrix\",fontsize=14)\n",
    "plt.show()\n",
    "\n",
    "y_rfpred_prob = model_rf.predict_proba(X_test)[:,1]\n",
    "fpr_rf, tpr_rf, thresholds = roc_curve(y_test, y_rfpred_prob)\n",
    "plt.plot([0, 1], [0, 1], 'k--' )\n",
    "plt.plot(fpr_rf, tpr_rf, label='Random Forest',color = \"r\")\n",
    "plt.xlabel('False Positive Rate')\n",
    "plt.ylabel('True Positive Rate')\n",
    "plt.title('Random Forest ROC Curve',fontsize=16)\n",
    "plt.show();"
   ]
  }
 ],
 "metadata": {
  "kernelspec": {
   "display_name": "Python 3 (ipykernel)",
   "language": "python",
   "name": "python3"
  },
  "language_info": {
   "codemirror_mode": {
    "name": "ipython",
    "version": 3
   },
   "file_extension": ".py",
   "mimetype": "text/x-python",
   "name": "python",
   "nbconvert_exporter": "python",
   "pygments_lexer": "ipython3",
   "version": "3.8.16"
  }
 },
 "nbformat": 4,
 "nbformat_minor": 5
}
